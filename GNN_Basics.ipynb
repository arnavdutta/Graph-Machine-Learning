{
 "cells": [
  {
   "cell_type": "markdown",
   "metadata": {},
   "source": [
    "# Graph Neural Network (Basics)\n",
    "1. `URL:` https://towardsdatascience.com/how-to-do-deep-learning-on-graphs-with-graph-convolutional-networks-7d2250723780\n",
    "2. `URL:` https://towardsdatascience.com/how-to-do-deep-learning-on-graphs-with-graph-convolutional-networks-62acf5b143d0\n",
    "3. `URL:` http://romain.raveaux.free.fr/document/Semi%20supervised%20learning%20%20Zachary%20s%20club-student-correction.html\n",
    "4. `URL:` https://petamind.com/an-example-to-graph-convolutional-network/\n",
    "5. `URL:` https://petamind.com/create-bipartite-graph-from-a-rating-matrix/\n",
    "6. `URL:` http://romain.raveaux.free.fr/document/A+graph+matching+method+based+on+the+leading+Eigen+vector+and+Sinkhorn-Knopp+algorithm.html\n",
    "7. `URL:` https://github.com/dbusbridge/gcn_tutorial\n"
   ]
  },
  {
   "cell_type": "markdown",
   "metadata": {},
   "source": [
    "A graph convolutional network (GCN) is a neural network that operates on graphs. Given a graph G = (V, E), a GCN takes as input\n",
    "* an input feature matrix N × F⁰ feature matrix, X, where N is the number of nodes and F⁰ is the number of input features for each node, and\n",
    "    \n",
    "* an N × N matrix representation of the graph structure such as the adjacency matrix A of G.\n",
    "\n",
    "A hidden layer in the GCN can thus be written as `Hⁱ = f(Hⁱ⁻¹, A)` where `H⁰ = X` and `f` is a propagation. Each layer `Hⁱ` corresponds to an `N × Fⁱ` feature matrix where each row is a feature representation of a node. \n",
    "\n",
    "At each layer, these features are aggregated to form the next layer’s features using the propagation rule `f`. In this way, features become increasingly more abstract at each consecutive layer. \n",
    "\n",
    "In this framework, variants of GCN differ only in the choice of propagation rule `f`.\n",
    "\n",
    "### A Simple Propagation Rule\n",
    "\n",
    "One of the simplest possible propagation rule is:\n",
    "\n",
    "# `f(Hⁱ, A) = σ(AHⁱWⁱ)`\n",
    "\n",
    "where `Wⁱ` is the weight matrix for layer `i` and `σ` is a non-linear activation function such as the `ReLU` function. \n",
    "The weight matrix has dimensions `Fⁱ × Fⁱ⁺¹`; \n",
    "\n",
    "**In other words the size of the second dimension of the weight matrix determines the number of features at the next layer.** \n",
    "If you are familiar with convolutional neural networks, this operation is similar to a filtering operation since these weights are shared across nodes in the graph."
   ]
  },
  {
   "cell_type": "code",
   "execution_count": 1,
   "metadata": {
    "ExecuteTime": {
     "end_time": "2020-08-14T13:39:56.287021Z",
     "start_time": "2020-08-14T13:39:55.443020Z"
    }
   },
   "outputs": [],
   "source": [
    "import numpy as np\n",
    "# from tensorflow.keras.activations import relu\n",
    "import matplotlib.pyplot as plt\n",
    "import networkx as nx"
   ]
  },
  {
   "cell_type": "markdown",
   "metadata": {},
   "source": [
    "### Adjacency Matrix Representation"
   ]
  },
  {
   "cell_type": "code",
   "execution_count": 2,
   "metadata": {
    "ExecuteTime": {
     "end_time": "2020-08-14T13:39:56.303018Z",
     "start_time": "2020-08-14T13:39:56.291020Z"
    },
    "scrolled": true
   },
   "outputs": [
    {
     "data": {
      "text/plain": [
       "matrix([[0., 1., 0., 0.],\n",
       "        [0., 0., 1., 1.],\n",
       "        [0., 1., 0., 0.],\n",
       "        [1., 0., 1., 0.]])"
      ]
     },
     "execution_count": 2,
     "metadata": {},
     "output_type": "execute_result"
    }
   ],
   "source": [
    "A = np.matrix([[0, 1, 0, 0],\n",
    "                [0, 0, 1, 1], \n",
    "                [0, 1, 0, 0],\n",
    "                [1, 0, 1, 0]],dtype=float)\n",
    "A"
   ]
  },
  {
   "cell_type": "markdown",
   "metadata": {},
   "source": [
    "### Graph Representation"
   ]
  },
  {
   "cell_type": "code",
   "execution_count": 3,
   "metadata": {
    "ExecuteTime": {
     "end_time": "2020-08-14T13:39:56.761016Z",
     "start_time": "2020-08-14T13:39:56.305017Z"
    }
   },
   "outputs": [
    {
     "data": {
      "image/png": "[encoded data removed]",
      "text/plain": [
       "<Figure size 432x288 with 1 Axes>"
      ]
     },
     "metadata": {},
     "output_type": "display_data"
    }
   ],
   "source": [
    "A_graph = nx.DiGraph(A)\n",
    "nx.draw(A_graph, with_labels=True)\n",
    "plt.show()"
   ]
  },
  {
   "cell_type": "code",
   "execution_count": 4,
   "metadata": {
    "ExecuteTime": {
     "end_time": "2020-08-14T13:39:56.777015Z",
     "start_time": "2020-08-14T13:39:56.763064Z"
    }
   },
   "outputs": [
    {
     "name": "stdout",
     "output_type": "stream",
     "text": [
      "Node Degree\n",
      "0    2\n",
      "1    4\n",
      "2    3\n",
      "3    3\n"
     ]
    }
   ],
   "source": [
    "print(\"Node Degree\")\n",
    "for v in A_graph:\n",
    "    print(f'{v}    {A_graph.degree(v)}')"
   ]
  },
  {
   "cell_type": "markdown",
   "metadata": {},
   "source": [
    "Next, we need features! We generate 2 integer features for every node based on its index. This makes it easy to confirm the matrix calculations manually later."
   ]
  },
  {
   "cell_type": "code",
   "execution_count": 5,
   "metadata": {
    "ExecuteTime": {
     "end_time": "2020-08-14T13:39:56.792018Z",
     "start_time": "2020-08-14T13:39:56.779075Z"
    }
   },
   "outputs": [
    {
     "data": {
      "text/plain": [
       "matrix([[ 0.,  0.],\n",
       "        [ 1., -1.],\n",
       "        [ 2., -2.],\n",
       "        [ 3., -3.]])"
      ]
     },
     "execution_count": 5,
     "metadata": {},
     "output_type": "execute_result"
    }
   ],
   "source": [
    "X = np.matrix([[i, -i] for i in range(A.shape[0])], dtype=float)\n",
    "X"
   ]
  },
  {
   "cell_type": "markdown",
   "metadata": {},
   "source": [
    "### Applying the Propagation Rule\n",
    "\n",
    "Alright! We now have a graph, its adjacency matrix A and a set of input features X. Let’s see what happens when we apply the propagation rule:"
   ]
  },
  {
   "cell_type": "code",
   "execution_count": 6,
   "metadata": {
    "ExecuteTime": {
     "end_time": "2020-08-14T13:39:56.807019Z",
     "start_time": "2020-08-14T13:39:56.794044Z"
    }
   },
   "outputs": [
    {
     "data": {
      "text/plain": [
       "matrix([[ 1., -1.],\n",
       "        [ 5., -5.],\n",
       "        [ 1., -1.],\n",
       "        [ 2., -2.]])"
      ]
     },
     "execution_count": 6,
     "metadata": {},
     "output_type": "execute_result"
    }
   ],
   "source": [
    "A * X"
   ]
  },
  {
   "cell_type": "markdown",
   "metadata": {},
   "source": [
    "What happened? The representation of each node (each row) is now a sum of its neighbors features! In other words, the graph convolutional layer represents each node as an aggregate of its neighborhood. I encourage you to check the calculation for yourself. \n",
    "\n",
    "`Note` that in this case a `node n` is a neighbor of `node v` if there exists an **edge** from `v` to `n`."
   ]
  },
  {
   "cell_type": "markdown",
   "metadata": {},
   "source": [
    "## Some Problems Here\n",
    "\n",
    "1. The aggregated representation of a node does not include its own features! The representation is an aggregate of the features of neighbor nodes, so only nodes that has a self-loop will include their own features in the aggregate.\n",
    "    \n",
    "2. Nodes with large degrees will have large values in their feature representation while nodes with small degrees will have small values. This can cause vanishing or exploding gradients, but is also problematic for stochastic gradient descent algorithms which are typically used to train such networks and are sensitive to the scale (or range of values) of each of the input features."
   ]
  },
  {
   "cell_type": "markdown",
   "metadata": {},
   "source": [
    "### Solving 1st problem: Adding self-loops to each node\n",
    "\n",
    "In practice this is done by adding the **identity matrix** **`I`** to the **adjacency matrix** **`A`** before applying the propagation rule."
   ]
  },
  {
   "cell_type": "code",
   "execution_count": 7,
   "metadata": {
    "ExecuteTime": {
     "end_time": "2020-08-14T13:39:56.823030Z",
     "start_time": "2020-08-14T13:39:56.810020Z"
    }
   },
   "outputs": [
    {
     "data": {
      "text/plain": [
       "matrix([[1., 0., 0., 0.],\n",
       "        [0., 1., 0., 0.],\n",
       "        [0., 0., 1., 0.],\n",
       "        [0., 0., 0., 1.]])"
      ]
     },
     "execution_count": 7,
     "metadata": {},
     "output_type": "execute_result"
    }
   ],
   "source": [
    "I = np.matrix(np.eye(A.shape[0]))\n",
    "I"
   ]
  },
  {
   "cell_type": "code",
   "execution_count": 8,
   "metadata": {
    "ExecuteTime": {
     "end_time": "2020-08-14T13:39:56.839048Z",
     "start_time": "2020-08-14T13:39:56.827054Z"
    }
   },
   "outputs": [
    {
     "data": {
      "text/plain": [
       "matrix([[1., 1., 0., 0.],\n",
       "        [0., 1., 1., 1.],\n",
       "        [0., 1., 1., 0.],\n",
       "        [1., 0., 1., 1.]])"
      ]
     },
     "execution_count": 8,
     "metadata": {},
     "output_type": "execute_result"
    }
   ],
   "source": [
    "A_hat = A + I\n",
    "A_hat"
   ]
  },
  {
   "cell_type": "code",
   "execution_count": 9,
   "metadata": {
    "ExecuteTime": {
     "end_time": "2020-08-14T13:39:56.855039Z",
     "start_time": "2020-08-14T13:39:56.843028Z"
    }
   },
   "outputs": [
    {
     "data": {
      "text/plain": [
       "matrix([[ 1., -1.],\n",
       "        [ 6., -6.],\n",
       "        [ 3., -3.],\n",
       "        [ 5., -5.]])"
      ]
     },
     "execution_count": 9,
     "metadata": {},
     "output_type": "execute_result"
    }
   ],
   "source": [
    "A_hat * X"
   ]
  },
  {
   "cell_type": "markdown",
   "metadata": {},
   "source": [
    "Since the node is now a neighbor of itself, the node’s own features is included when summing up the features of its neighbors!"
   ]
  },
  {
   "cell_type": "markdown",
   "metadata": {},
   "source": [
    "### Solving 2nd Problem: Normalizing the Feature Representations\n",
    "\n",
    "The feature representations can be normalized by node degree by transforming the **adjacency matrix** **`A`** by multiplying it with the **inverse degree matrix** **`D`**.\n",
    "\n",
    "### `f(X, A) = D⁻¹AX`"
   ]
  },
  {
   "cell_type": "code",
   "execution_count": 10,
   "metadata": {
    "ExecuteTime": {
     "end_time": "2020-08-14T13:39:56.871032Z",
     "start_time": "2020-08-14T13:39:56.858018Z"
    }
   },
   "outputs": [
    {
     "data": {
      "text/plain": [
       "matrix([[1., 0., 0., 0.],\n",
       "        [0., 2., 0., 0.],\n",
       "        [0., 0., 2., 0.],\n",
       "        [0., 0., 0., 1.]])"
      ]
     },
     "execution_count": 10,
     "metadata": {},
     "output_type": "execute_result"
    }
   ],
   "source": [
    "D = np.array(np.sum(A, axis=0))[0]\n",
    "D = np.matrix(np.diag(D))\n",
    "D"
   ]
  },
  {
   "cell_type": "markdown",
   "metadata": {},
   "source": [
    "Before applying the rule, let’s see what happens to the adjacency matrix after we transform it."
   ]
  },
  {
   "cell_type": "code",
   "execution_count": 11,
   "metadata": {
    "ExecuteTime": {
     "end_time": "2020-08-14T13:39:56.887018Z",
     "start_time": "2020-08-14T13:39:56.875025Z"
    }
   },
   "outputs": [
    {
     "data": {
      "text/plain": [
       "matrix([[2., 0., 0., 0.],\n",
       "        [0., 3., 0., 0.],\n",
       "        [0., 0., 3., 0.],\n",
       "        [0., 0., 0., 2.]])"
      ]
     },
     "execution_count": 11,
     "metadata": {},
     "output_type": "execute_result"
    }
   ],
   "source": [
    "D_hat = np.array(np.sum(A_hat, axis=0))[0]\n",
    "D_hat = np.matrix(np.diag(D_hat))\n",
    "D_hat"
   ]
  },
  {
   "cell_type": "code",
   "execution_count": 12,
   "metadata": {
    "ExecuteTime": {
     "end_time": "2020-08-14T13:39:56.903016Z",
     "start_time": "2020-08-14T13:39:56.891025Z"
    }
   },
   "outputs": [
    {
     "data": {
      "text/plain": [
       "matrix([[0., 1., 0., 0.],\n",
       "        [0., 0., 1., 1.],\n",
       "        [0., 1., 0., 0.],\n",
       "        [1., 0., 1., 0.]])"
      ]
     },
     "execution_count": 12,
     "metadata": {},
     "output_type": "execute_result"
    }
   ],
   "source": [
    "A"
   ]
  },
  {
   "cell_type": "code",
   "execution_count": 13,
   "metadata": {
    "ExecuteTime": {
     "end_time": "2020-08-14T13:39:56.919024Z",
     "start_time": "2020-08-14T13:39:56.907020Z"
    }
   },
   "outputs": [
    {
     "data": {
      "text/plain": [
       "matrix([[0. , 1. , 0. , 0. ],\n",
       "        [0. , 0. , 0.5, 0.5],\n",
       "        [0. , 0.5, 0. , 0. ],\n",
       "        [1. , 0. , 1. , 0. ]])"
      ]
     },
     "execution_count": 13,
     "metadata": {},
     "output_type": "execute_result"
    }
   ],
   "source": [
    "D**-1 * A"
   ]
  },
  {
   "cell_type": "markdown",
   "metadata": {},
   "source": [
    "Observe that the weights (the values) in each row of the adjacency matrix have been divided by the degree of the node corresponding to the row. \n",
    "\n",
    "We apply the propagation rule with the transformed adjacency matrix and get node representations corresponding to the mean of the features of neighboring nodes. \n",
    "\n",
    "This is because the weights in the (transformed) adjacency matrix correspond to weights in a weighted sum of the neighboring nodes’ features."
   ]
  },
  {
   "cell_type": "code",
   "execution_count": 14,
   "metadata": {
    "ExecuteTime": {
     "end_time": "2020-08-14T13:39:56.935017Z",
     "start_time": "2020-08-14T13:39:56.923022Z"
    }
   },
   "outputs": [
    {
     "data": {
      "text/plain": [
       "matrix([[ 1. , -1. ],\n",
       "        [ 2.5, -2.5],\n",
       "        [ 0.5, -0.5],\n",
       "        [ 2. , -2. ]])"
      ]
     },
     "execution_count": 14,
     "metadata": {},
     "output_type": "execute_result"
    }
   ],
   "source": [
    "D**-1 * A * X"
   ]
  },
  {
   "cell_type": "markdown",
   "metadata": {},
   "source": [
    "### Putting it All Together\n",
    "\n",
    "We now combine the **self-loop** and **normalization** tips. In addition, we’ll reintroduce the weights and activation function that we previously discarded to simplify the discussion."
   ]
  },
  {
   "cell_type": "markdown",
   "metadata": {},
   "source": [
    "#### Adding back the Weights\n",
    "\n",
    "First order of business is applying the weights. \n",
    "\n",
    "Note that here `D_hat` is the **degree matrix** of `A_hat = A + I`, i.e., the degree matrix of A with forced self-loops."
   ]
  },
  {
   "cell_type": "code",
   "execution_count": 15,
   "metadata": {
    "ExecuteTime": {
     "end_time": "2020-08-14T13:39:56.951016Z",
     "start_time": "2020-08-14T13:39:56.937019Z"
    }
   },
   "outputs": [
    {
     "data": {
      "text/plain": [
       "matrix([[ 1, -1],\n",
       "        [-1,  1]])"
      ]
     },
     "execution_count": 15,
     "metadata": {},
     "output_type": "execute_result"
    }
   ],
   "source": [
    "W = np.matrix([[1, -1],\n",
    "             [-1, 1]])\n",
    "W"
   ]
  },
  {
   "cell_type": "code",
   "execution_count": 16,
   "metadata": {
    "ExecuteTime": {
     "end_time": "2020-08-14T13:39:56.967015Z",
     "start_time": "2020-08-14T13:39:56.952016Z"
    }
   },
   "outputs": [
    {
     "data": {
      "text/plain": [
       "matrix([[ 1., -1.],\n",
       "        [ 4., -4.],\n",
       "        [ 2., -2.],\n",
       "        [ 5., -5.]])"
      ]
     },
     "execution_count": 16,
     "metadata": {},
     "output_type": "execute_result"
    }
   ],
   "source": [
    "D_hat**-1 * A_hat * X * W"
   ]
  },
  {
   "cell_type": "markdown",
   "metadata": {},
   "source": [
    "And if we want to reduce the dimensionality of the output feature representations we can reduce the size of the **weight matrix** **`W`**."
   ]
  },
  {
   "cell_type": "code",
   "execution_count": 17,
   "metadata": {
    "ExecuteTime": {
     "end_time": "2020-08-14T13:39:56.983017Z",
     "start_time": "2020-08-14T13:39:56.968016Z"
    }
   },
   "outputs": [
    {
     "data": {
      "text/plain": [
       "matrix([[1.],\n",
       "        [4.],\n",
       "        [2.],\n",
       "        [5.]])"
      ]
     },
     "execution_count": 17,
     "metadata": {},
     "output_type": "execute_result"
    }
   ],
   "source": [
    "W = np.matrix([[1],\n",
    "             [-1]])\n",
    "D_hat**-1 * A_hat * X * W"
   ]
  },
  {
   "cell_type": "markdown",
   "metadata": {},
   "source": [
    "### Adding an Activation Function\n",
    "\n",
    "We choose to preserve the dimensionality of the feature representations and apply the ReLU activation function."
   ]
  },
  {
   "cell_type": "code",
   "execution_count": 18,
   "metadata": {
    "ExecuteTime": {
     "end_time": "2020-08-14T13:39:56.999017Z",
     "start_time": "2020-08-14T13:39:56.985016Z"
    }
   },
   "outputs": [],
   "source": [
    "def relu(x):\n",
    "    return np.maximum(x, 0)"
   ]
  },
  {
   "cell_type": "code",
   "execution_count": 19,
   "metadata": {
    "ExecuteTime": {
     "end_time": "2020-08-14T13:39:57.015018Z",
     "start_time": "2020-08-14T13:39:57.000017Z"
    }
   },
   "outputs": [
    {
     "data": {
      "text/plain": [
       "matrix([[1., 0.],\n",
       "        [4., 0.],\n",
       "        [2., 0.],\n",
       "        [5., 0.]])"
      ]
     },
     "execution_count": 19,
     "metadata": {},
     "output_type": "execute_result"
    }
   ],
   "source": [
    "W = np.matrix([[1, -1],\n",
    "             [-1, 1]])\n",
    "relu(D_hat**-1 * A_hat * X * W)"
   ]
  },
  {
   "cell_type": "markdown",
   "metadata": {},
   "source": [
    "### Till now we completed a complete hidden layer with adjacency matrix, input features, weights and activation function\n",
    "\n",
    "### Now, finally, we can apply a graph convolutional network on a real graph."
   ]
  },
  {
   "cell_type": "markdown",
   "metadata": {},
   "source": [
    "### Dataset: Zachary’s Karate Club\n",
    "\n",
    "Zachary’s karate club is a commonly used social network where nodes represent members of a karate club and the edges their mutual relations. "
   ]
  },
  {
   "cell_type": "markdown",
   "metadata": {},
   "source": [
    "### Building the GCN"
   ]
  },
  {
   "cell_type": "markdown",
   "metadata": {},
   "source": [
    "Now let us build the graph convolutional network. We won’t actually train the network, but simply initialize it at random to produce the feature representations we saw at the start of this post. \n",
    "\n",
    "We will use networkx which has a graph representation of the club easily available, and compute the `A_hat` and `D_hat` matrices."
   ]
  },
  {
   "cell_type": "code",
   "execution_count": 20,
   "metadata": {
    "ExecuteTime": {
     "end_time": "2020-08-14T13:39:57.031016Z",
     "start_time": "2020-08-14T13:39:57.017016Z"
    }
   },
   "outputs": [],
   "source": [
    "from networkx import karate_club_graph, to_numpy_matrix"
   ]
  },
  {
   "cell_type": "code",
   "execution_count": 21,
   "metadata": {
    "ExecuteTime": {
     "end_time": "2020-08-14T13:39:57.363059Z",
     "start_time": "2020-08-14T13:39:57.032017Z"
    }
   },
   "outputs": [
    {
     "data": {
      "image/png": "[encoded data removed]",
      "text/plain": [
       "<Figure size 432x288 with 1 Axes>"
      ]
     },
     "metadata": {},
     "output_type": "display_data"
    },
    {
     "data": {
      "image/png": "[encoded data removed]",
      "text/plain": [
       "<Figure size 432x288 with 1 Axes>"
      ]
     },
     "metadata": {},
     "output_type": "display_data"
    },
    {
     "name": "stdout",
     "output_type": "stream",
     "text": [
      "We have 34 nodes.\n",
      "We have 78 edges.\n"
     ]
    }
   ],
   "source": [
    "G = karate_club_graph()\n",
    "nx.draw(G, with_labels=True)\n",
    "plt.show()\n",
    "nx.draw_circular(G, with_labels=True)\n",
    "plt.show()\n",
    "print(f'We have {G.number_of_nodes()} nodes.')\n",
    "print(f'We have {G.number_of_edges()} edges.')"
   ]
  },
  {
   "cell_type": "markdown",
   "metadata": {},
   "source": [
    "In graph theory, the **degree (or valency)** of a vertex of a graph is the **number of edges that are incident to the vertex**, and **in a multigraph, loops are counted twice**. \n",
    "\n",
    "In a regular graph, every vertex has the same degree, and so we can speak of the degree of the graph. "
   ]
  },
  {
   "cell_type": "markdown",
   "metadata": {},
   "source": [
    "![Degree Sum Formula](https://wikimedia.org/api/rest_v1/media/math/render/svg/93be0f1259e712a8e9f048788e4e2888bb7f22b0 \"Degree Sum Formula\")\n",
    "\n",
    "The degree sum formula states that, given a graph G = ( V , E ).\n",
    "The formula implies that in any undirected graph, the number of vertices with odd degree is even. \n",
    "\n",
    "This statement (as well as the degree sum formula) is known as the handshaking lemma. The latter name comes from a popular mathematical problem, to prove that in any group of people the number of people who have shaken hands with an odd number of other people from the group is even."
   ]
  },
  {
   "cell_type": "code",
   "execution_count": 22,
   "metadata": {
    "ExecuteTime": {
     "end_time": "2020-08-14T13:39:57.379018Z",
     "start_time": "2020-08-14T13:39:57.365016Z"
    }
   },
   "outputs": [
    {
     "name": "stdout",
     "output_type": "stream",
     "text": [
      "Node Degree\n",
      "0     16\n",
      "1     9\n",
      "2     10\n",
      "3     6\n",
      "4     3\n",
      "5     4\n",
      "6     4\n",
      "7     4\n",
      "8     5\n",
      "9     2\n",
      "10     3\n",
      "11     1\n",
      "12     2\n",
      "13     5\n",
      "14     2\n",
      "15     2\n",
      "16     2\n",
      "17     2\n",
      "18     2\n",
      "19     3\n",
      "20     2\n",
      "21     2\n",
      "22     2\n",
      "23     5\n",
      "24     3\n",
      "25     3\n",
      "26     2\n",
      "27     4\n",
      "28     3\n",
      "29     4\n",
      "30     4\n",
      "31     6\n",
      "32     12\n",
      "33     17\n"
     ]
    }
   ],
   "source": [
    "print(\"Node Degree\")\n",
    "for v in G:\n",
    "    print(f'{v}     {G.degree(v)}')"
   ]
  },
  {
   "cell_type": "code",
   "execution_count": 23,
   "metadata": {
    "ExecuteTime": {
     "end_time": "2020-08-14T13:39:57.566189Z",
     "start_time": "2020-08-14T13:39:57.384017Z"
    }
   },
   "outputs": [
    {
     "data": {
      "image/png": "[encoded data removed]",
      "text/plain": [
       "<Figure size 432x288 with 1 Axes>"
      ]
     },
     "metadata": {},
     "output_type": "display_data"
    }
   ],
   "source": [
    "color_map = []\n",
    "for i in range(len(G.nodes)):\n",
    "    if G.nodes[i].get('club') == 'Mr. Hi':\n",
    "        color_map.append('yellow')\n",
    "    else:\n",
    "        color_map.append('cyan')\n",
    "nx.draw_spring(G, node_color=color_map, with_labels=True)\n",
    "plt.show()"
   ]
  },
  {
   "cell_type": "code",
   "execution_count": 24,
   "metadata": {
    "ExecuteTime": {
     "end_time": "2020-08-14T13:39:57.581057Z",
     "start_time": "2020-08-14T13:39:57.570022Z"
    }
   },
   "outputs": [],
   "source": [
    "order = sorted(list(G.nodes()))\n",
    "A = to_numpy_matrix(G, nodelist=order)\n",
    "I = np.eye(G.number_of_nodes())\n",
    "A_hat = A + I\n",
    "D_hat = np.array(np.sum(A_hat, axis=0))[0]\n",
    "D_hat = np.matrix(np.diag(D_hat))"
   ]
  },
  {
   "cell_type": "code",
   "execution_count": 25,
   "metadata": {
    "ExecuteTime": {
     "end_time": "2020-08-14T13:39:57.597019Z",
     "start_time": "2020-08-14T13:39:57.583019Z"
    }
   },
   "outputs": [
    {
     "data": {
      "text/plain": [
       "matrix([[0., 1., 1., ..., 1., 0., 0.],\n",
       "        [1., 0., 1., ..., 0., 0., 0.],\n",
       "        [1., 1., 0., ..., 0., 1., 0.],\n",
       "        ...,\n",
       "        [1., 0., 0., ..., 0., 1., 1.],\n",
       "        [0., 0., 1., ..., 1., 0., 1.],\n",
       "        [0., 0., 0., ..., 1., 1., 0.]])"
      ]
     },
     "execution_count": 25,
     "metadata": {},
     "output_type": "execute_result"
    }
   ],
   "source": [
    "A"
   ]
  },
  {
   "cell_type": "code",
   "execution_count": 26,
   "metadata": {
    "ExecuteTime": {
     "end_time": "2020-08-14T13:39:57.613020Z",
     "start_time": "2020-08-14T13:39:57.599018Z"
    }
   },
   "outputs": [
    {
     "data": {
      "text/plain": [
       "array([[1., 0., 0., ..., 0., 0., 0.],\n",
       "       [0., 1., 0., ..., 0., 0., 0.],\n",
       "       [0., 0., 1., ..., 0., 0., 0.],\n",
       "       ...,\n",
       "       [0., 0., 0., ..., 1., 0., 0.],\n",
       "       [0., 0., 0., ..., 0., 1., 0.],\n",
       "       [0., 0., 0., ..., 0., 0., 1.]])"
      ]
     },
     "execution_count": 26,
     "metadata": {},
     "output_type": "execute_result"
    }
   ],
   "source": [
    "I"
   ]
  },
  {
   "cell_type": "code",
   "execution_count": 27,
   "metadata": {
    "ExecuteTime": {
     "end_time": "2020-08-14T13:39:57.628034Z",
     "start_time": "2020-08-14T13:39:57.615019Z"
    }
   },
   "outputs": [
    {
     "data": {
      "text/plain": [
       "matrix([[1., 1., 1., ..., 1., 0., 0.],\n",
       "        [1., 1., 1., ..., 0., 0., 0.],\n",
       "        [1., 1., 1., ..., 0., 1., 0.],\n",
       "        ...,\n",
       "        [1., 0., 0., ..., 1., 1., 1.],\n",
       "        [0., 0., 1., ..., 1., 1., 1.],\n",
       "        [0., 0., 0., ..., 1., 1., 1.]])"
      ]
     },
     "execution_count": 27,
     "metadata": {},
     "output_type": "execute_result"
    }
   ],
   "source": [
    "A_hat"
   ]
  },
  {
   "cell_type": "code",
   "execution_count": 28,
   "metadata": {
    "ExecuteTime": {
     "end_time": "2020-08-14T13:39:57.644017Z",
     "start_time": "2020-08-14T13:39:57.630018Z"
    }
   },
   "outputs": [
    {
     "data": {
      "text/plain": [
       "matrix([[17.,  0.,  0., ...,  0.,  0.,  0.],\n",
       "        [ 0., 10.,  0., ...,  0.,  0.,  0.],\n",
       "        [ 0.,  0., 11., ...,  0.,  0.,  0.],\n",
       "        ...,\n",
       "        [ 0.,  0.,  0., ...,  7.,  0.,  0.],\n",
       "        [ 0.,  0.,  0., ...,  0., 13.,  0.],\n",
       "        [ 0.,  0.,  0., ...,  0.,  0., 18.]])"
      ]
     },
     "execution_count": 28,
     "metadata": {},
     "output_type": "execute_result"
    }
   ],
   "source": [
    "D_hat"
   ]
  },
  {
   "cell_type": "markdown",
   "metadata": {},
   "source": [
    "Next, we’ll initialize weights randomly."
   ]
  },
  {
   "cell_type": "code",
   "execution_count": 29,
   "metadata": {
    "ExecuteTime": {
     "end_time": "2020-08-14T13:39:57.659017Z",
     "start_time": "2020-08-14T13:39:57.646021Z"
    }
   },
   "outputs": [],
   "source": [
    "#W_1 with size 34 x 4\n",
    "W_1 = np.random.normal(loc=0, scale=1, size=(G.number_of_nodes(), 4))\n",
    "\n",
    "#W_2 with size 4 x 2\n",
    "W_2 = np.random.normal(loc=0, size=(W_1.shape[1], 2))"
   ]
  },
  {
   "cell_type": "code",
   "execution_count": 30,
   "metadata": {
    "ExecuteTime": {
     "end_time": "2020-08-14T13:39:57.675055Z",
     "start_time": "2020-08-14T13:39:57.660019Z"
    }
   },
   "outputs": [
    {
     "data": {
      "text/plain": [
       "array([[-1.5003055 ,  1.23619611,  0.95679601,  0.71007496],\n",
       "       [-1.05792991,  0.54521364,  0.26180987,  2.17514812],\n",
       "       [ 0.35283054,  1.06451352,  0.82529781, -1.90511406],\n",
       "       [-0.49848499, -0.45898585, -1.03739446,  0.61728419],\n",
       "       [ 1.15898269,  0.94579135,  0.71285787,  0.36842927],\n",
       "       [-1.01625596, -2.27058306, -0.88885175, -0.51425328],\n",
       "       [-0.7918702 , -0.64193539, -0.6439537 ,  0.54430601],\n",
       "       [-0.02270926,  0.41278176,  1.14651748,  0.87952172],\n",
       "       [-0.92625289,  0.36753632,  0.53449276,  0.68813007],\n",
       "       [-0.21981931,  0.5506544 , -0.39296943,  0.51139742],\n",
       "       [ 1.01227836, -1.10616027, -0.91430956,  2.64425392],\n",
       "       [-0.0394187 , -0.92884001,  0.2451555 ,  0.45090754],\n",
       "       [ 0.52131696,  1.31372031, -0.12513571,  0.62971678],\n",
       "       [-0.16311156, -0.17936435, -0.02419593,  2.37185012],\n",
       "       [ 0.65281584, -2.23014127,  0.60582467,  2.10871844],\n",
       "       [-0.46273534, -0.36645247,  0.53050328, -0.19338091],\n",
       "       [-0.50783704, -2.25229575, -1.6382409 ,  0.7090604 ],\n",
       "       [ 0.81630771,  0.19020592, -1.07769464, -0.13949786],\n",
       "       [ 0.59862805,  1.49433358, -0.63178736, -0.7898535 ],\n",
       "       [ 0.57103756,  1.23712316, -0.72079125,  0.17580453],\n",
       "       [ 0.24997579, -1.55931545,  0.81888659, -2.57370011],\n",
       "       [-0.365066  , -1.21443295, -2.0753042 , -0.46527871],\n",
       "       [-0.43734968,  0.69870885, -1.18091291,  0.07854377],\n",
       "       [-1.26356492,  1.12135986, -0.75611051, -0.2717354 ],\n",
       "       [ 0.53458604,  0.12041213,  1.02887794,  0.26883713],\n",
       "       [-0.45163399, -0.81413675,  0.31772146,  0.3538312 ],\n",
       "       [ 0.56879142, -1.20676789,  0.67256079, -0.94265196],\n",
       "       [ 0.53429909,  1.20063148,  0.34768777,  0.01588842],\n",
       "       [ 1.0690526 ,  1.49383213, -0.08600026,  0.02005257],\n",
       "       [ 1.7146514 ,  0.0785564 , -2.23710296,  0.3695099 ],\n",
       "       [-1.42046281, -0.12668305,  0.78789308,  0.63171226],\n",
       "       [ 0.7728107 , -0.29810936,  0.58694714, -1.02930253],\n",
       "       [ 1.18031493,  0.64760818, -0.14525431,  1.01246165],\n",
       "       [ 0.38001769,  1.23461198, -0.17660776,  0.86016144]])"
      ]
     },
     "execution_count": 30,
     "metadata": {},
     "output_type": "execute_result"
    }
   ],
   "source": [
    "W_1"
   ]
  },
  {
   "cell_type": "code",
   "execution_count": 31,
   "metadata": {
    "ExecuteTime": {
     "end_time": "2020-08-14T13:39:57.691019Z",
     "start_time": "2020-08-14T13:39:57.677019Z"
    }
   },
   "outputs": [
    {
     "data": {
      "text/plain": [
       "array([[-0.5699169 , -0.68967448],\n",
       "       [-0.28811549,  0.33200061],\n",
       "       [ 1.84972496, -0.24459045],\n",
       "       [-1.73790105,  0.06713215]])"
      ]
     },
     "execution_count": 31,
     "metadata": {},
     "output_type": "execute_result"
    }
   ],
   "source": [
    "W_2"
   ]
  },
  {
   "cell_type": "markdown",
   "metadata": {},
   "source": [
    "Stack the GCN layers. We here use just the identity matrix as feature representation, that is, each node is represented as a **one-hot encoded categorical variable**."
   ]
  },
  {
   "cell_type": "code",
   "execution_count": 32,
   "metadata": {
    "ExecuteTime": {
     "end_time": "2020-08-14T13:39:57.707017Z",
     "start_time": "2020-08-14T13:39:57.692016Z"
    }
   },
   "outputs": [],
   "source": [
    "def gcn_layer(A_hat, D_hat, X, W):\n",
    "    return relu(D_hat**-1 * A_hat * X * W)"
   ]
  },
  {
   "cell_type": "code",
   "execution_count": 33,
   "metadata": {
    "ExecuteTime": {
     "end_time": "2020-08-14T13:39:57.801030Z",
     "start_time": "2020-08-14T13:39:57.709016Z"
    }
   },
   "outputs": [
    {
     "data": {
      "text/plain": [
       "matrix([[0.        , 0.0126277 , 0.        , 0.48246946],\n",
       "        [0.        , 0.27065679, 0.        , 0.50515053],\n",
       "        [0.        , 0.62551067, 0.21698066, 0.64515411],\n",
       "        [0.        , 0.56201073, 0.28624215, 0.78264026],\n",
       "        [0.        , 0.10847295, 0.02784766, 1.06676604],\n",
       "        [0.        , 0.        , 0.        , 0.8186884 ],\n",
       "        [0.        , 0.        , 0.        , 0.36352347],\n",
       "        [0.        , 0.55994383, 0.43060534, 0.49538299],\n",
       "        [0.        , 0.73729718, 0.4637696 , 0.33290439],\n",
       "        [0.17100964, 0.94992663, 0.08524021, 0.        ],\n",
       "        [0.        , 0.        , 0.        , 0.80212622],\n",
       "        [0.        , 0.15367805, 0.60097576, 0.58049125],\n",
       "        [0.        , 0.69697686, 0.        , 0.65235864],\n",
       "        [0.        , 0.57369751, 0.13428426, 0.8049008 ],\n",
       "        [0.73771616, 0.        , 0.0946542 , 1.32711384],\n",
       "        [0.36586576, 0.5052559 , 0.06954707, 0.55974739],\n",
       "        [0.        , 0.        , 0.        , 0.24637104],\n",
       "        [0.        , 0.65720522, 0.04697042, 0.91524174],\n",
       "        [0.71965356, 1.12551792, 0.        , 0.3609232 ],\n",
       "        [0.        , 1.06328622, 0.08030172, 0.98029726],\n",
       "        [0.60343614, 0.10763491, 0.16567484, 0.        ],\n",
       "        [0.        , 0.18899227, 0.        , 0.80664812],\n",
       "        [0.37432765, 0.86030967, 0.        , 0.65038895],\n",
       "        [0.34901403, 0.57810519, 0.        , 0.39001954],\n",
       "        [0.34751546, 0.05219938, 0.57030858, 0.        ],\n",
       "        [0.        , 0.03238147, 0.29435901, 0.        ],\n",
       "        [0.88782017, 0.03546683, 0.        , 0.09567313],\n",
       "        [0.10763369, 0.94830579, 0.25382905, 0.        ],\n",
       "        [0.64367788, 0.87371207, 0.28740923, 0.        ],\n",
       "        [0.51604211, 0.37507371, 0.        , 0.20554913],\n",
       "        [0.        , 0.53365742, 0.25246673, 1.07352271],\n",
       "        [0.28354893, 0.51720206, 0.35464003, 0.31373092],\n",
       "        [0.10705225, 0.16357901, 0.        , 0.        ],\n",
       "        [0.18883881, 0.23100681, 0.        , 0.16908923]])"
      ]
     },
     "execution_count": 33,
     "metadata": {},
     "output_type": "execute_result"
    }
   ],
   "source": [
    "H_1 = gcn_layer(A_hat, D_hat, I, W_1)\n",
    "H_1"
   ]
  },
  {
   "cell_type": "code",
   "execution_count": 34,
   "metadata": {
    "ExecuteTime": {
     "end_time": "2020-08-14T13:39:57.817027Z",
     "start_time": "2020-08-14T13:39:57.802992Z"
    }
   },
   "outputs": [
    {
     "data": {
      "text/plain": [
       "matrix([[0.        , 0.12667561],\n",
       "        [0.        , 0.18245862],\n",
       "        [0.        , 0.10163647],\n",
       "        [0.        , 0.16115168],\n",
       "        [0.        , 0.05391258],\n",
       "        [0.        , 0.03726678],\n",
       "        [0.        , 0.04666032],\n",
       "        [0.        , 0.12824256],\n",
       "        [0.        , 0.08566098],\n",
       "        [0.        , 0.11076794],\n",
       "        [0.        , 0.06155163],\n",
       "        [0.        , 0.        ],\n",
       "        [0.        , 0.16029624],\n",
       "        [0.        , 0.11614056],\n",
       "        [0.        , 0.        ],\n",
       "        [0.        , 0.        ],\n",
       "        [0.        , 0.03196795],\n",
       "        [0.        , 0.14283262],\n",
       "        [0.        , 0.        ],\n",
       "        [0.        , 0.12933505],\n",
       "        [0.        , 0.        ],\n",
       "        [0.        , 0.09241642],\n",
       "        [0.        , 0.00313555],\n",
       "        [0.        , 0.        ],\n",
       "        [0.32801582, 0.        ],\n",
       "        [0.03345695, 0.        ],\n",
       "        [0.        , 0.        ],\n",
       "        [0.        , 0.        ],\n",
       "        [0.        , 0.        ],\n",
       "        [0.        , 0.        ],\n",
       "        [0.        , 0.08064904],\n",
       "        [0.        , 0.        ],\n",
       "        [0.        , 0.        ],\n",
       "        [0.        , 0.        ]])"
      ]
     },
     "execution_count": 34,
     "metadata": {},
     "output_type": "execute_result"
    }
   ],
   "source": [
    "H_2 = gcn_layer(A_hat, D_hat, np.array(H_1, dtype=np.float64), W_2)\n",
    "H_2"
   ]
  },
  {
   "cell_type": "code",
   "execution_count": 35,
   "metadata": {
    "ExecuteTime": {
     "end_time": "2020-08-14T13:39:57.832989Z",
     "start_time": "2020-08-14T13:39:57.817994Z"
    }
   },
   "outputs": [],
   "source": [
    "output = H_2"
   ]
  },
  {
   "cell_type": "markdown",
   "metadata": {},
   "source": [
    "We extract the feature representations"
   ]
  },
  {
   "cell_type": "code",
   "execution_count": 36,
   "metadata": {
    "ExecuteTime": {
     "end_time": "2020-08-14T13:39:57.848990Z",
     "start_time": "2020-08-14T13:39:57.834993Z"
    }
   },
   "outputs": [
    {
     "data": {
      "text/plain": [
       "{0: array([0.        , 0.12667561]),\n",
       " 1: array([0.        , 0.18245862]),\n",
       " 2: array([0.        , 0.10163647]),\n",
       " 3: array([0.        , 0.16115168]),\n",
       " 4: array([0.        , 0.05391258]),\n",
       " 5: array([0.        , 0.03726678]),\n",
       " 6: array([0.        , 0.04666032]),\n",
       " 7: array([0.        , 0.12824256]),\n",
       " 8: array([0.        , 0.08566098]),\n",
       " 9: array([0.        , 0.11076794]),\n",
       " 10: array([0.        , 0.06155163]),\n",
       " 11: array([0., 0.]),\n",
       " 12: array([0.        , 0.16029624]),\n",
       " 13: array([0.        , 0.11614056]),\n",
       " 14: array([0., 0.]),\n",
       " 15: array([0., 0.]),\n",
       " 16: array([0.        , 0.03196795]),\n",
       " 17: array([0.        , 0.14283262]),\n",
       " 18: array([0., 0.]),\n",
       " 19: array([0.        , 0.12933505]),\n",
       " 20: array([0., 0.]),\n",
       " 21: array([0.        , 0.09241642]),\n",
       " 22: array([0.        , 0.00313555]),\n",
       " 23: array([0., 0.]),\n",
       " 24: array([0.32801582, 0.        ]),\n",
       " 25: array([0.03345695, 0.        ]),\n",
       " 26: array([0., 0.]),\n",
       " 27: array([0., 0.]),\n",
       " 28: array([0., 0.]),\n",
       " 29: array([0., 0.]),\n",
       " 30: array([0.        , 0.08064904]),\n",
       " 31: array([0., 0.]),\n",
       " 32: array([0., 0.]),\n",
       " 33: array([0., 0.])}"
      ]
     },
     "execution_count": 36,
     "metadata": {},
     "output_type": "execute_result"
    }
   ],
   "source": [
    "feature_representations = {node: np.array(output)[node] for node in G.nodes()}\n",
    "feature_representations"
   ]
  },
  {
   "cell_type": "code",
   "execution_count": 37,
   "metadata": {
    "ExecuteTime": {
     "end_time": "2020-08-14T13:39:58.039011Z",
     "start_time": "2020-08-14T13:39:57.850991Z"
    }
   },
   "outputs": [
    {
     "data": {
      "image/png": "[encoded data removed]",
      "text/plain": [
       "<Figure size 432x288 with 1 Axes>"
      ]
     },
     "metadata": {
      "needs_background": "light"
     },
     "output_type": "display_data"
    }
   ],
   "source": [
    "plt.scatter([output[:, 0]], [output[:, 1]], c = color_map, marker='o', s=60)\n",
    "plt.show()"
   ]
  },
  {
   "cell_type": "markdown",
   "metadata": {},
   "source": [
    "**Note** that for this example the randomly initialized weights were very likely to give 0 values on either the x- or the y-axis as result of the ReLU function, so it took a few random initializations to produce the figure above.\n"
   ]
  },
  {
   "cell_type": "markdown",
   "metadata": {},
   "source": [
    "## RECAP"
   ]
  },
  {
   "cell_type": "markdown",
   "metadata": {},
   "source": [
    "A simple mathematical framework for expressing propagation in GCNs. In short, given an **`N × F⁰`** **feature matrix** **`X`** and a matrix representation of the graph structure, e.g., the `N × N` **adjacency matrix** `A` of `G`, each hidden layer in the GCN can be expressed as **Hⁱ = f(Hⁱ⁻¹, A))** where **H⁰ = X and f is a propagation rule**. \n",
    "\n",
    "Each layer **Hⁱ** corresponds to an **N × Fⁱ** feature matrix where each row is a feature representation of a node.\n",
    "\n",
    "We saw propagation rules of the form:\n",
    "\n",
    "1. **f(Hⁱ, A) = σ(AHⁱWⁱ)**, and\n",
    "2. **f(Hⁱ, A) = σ(D⁻¹ÂHⁱWⁱ)** where **Â = A + I**, *I is the identity matrix*, and *D⁻¹ is the inverse degree matrix of Â*.\n",
    "\n",
    "These rules compute the feature representation of a node as an aggregate of the feature representations of its neighbors before it is transformed by applying the weights **Wⁱ** and activation function **σ**. \n",
    "\n",
    "We can make the aggregation and transformation steps more explicit by expressing propagation rules 1 and 2 above as:\n",
    "\n",
    "**`f(Hⁱ, A) = transform(aggregate(A,Hⁱ), Wⁱ)`** where **`transform(M, Wⁱ) = σ(MWⁱ)`** and \n",
    "\n",
    "For Rule 1:\n",
    "    **`aggregate(A,Hⁱ) = AHⁱ`**\n",
    "\n",
    "For Rule 2:\n",
    "     **`aggregate(A,Hⁱ) = D⁻¹Â Hⁱ`** "
   ]
  },
  {
   "cell_type": "markdown",
   "metadata": {},
   "source": [
    "**Aggregation** in rule 1 represents a node as a sum of its neighbors feature representations which has two significant shortcomings:\n",
    "\n",
    "1. the aggregated representation of a node does not include its own features, and \n",
    "\n",
    "2. nodes with large degrees will have large values in their feature representation while nodes with small degrees will have small values, which can lead to issues with exploding gradients and make it harder to train using algorithms such as stochastic gradient descent which are sensitive to feature scaling.\n",
    "\n",
    "To fix these two issues, **Rule 2** first enforces self loops by adding the **identity matrix** to A and aggregate on using the **transformed adjacency matrix** `Â = A + I`. \n",
    "\n",
    "Next, the feature representations are **normalized** by multiplication with the **inverse degree matrix** `D⁻¹`, turning the aggregate into a mean where the scale of the aggregated feature representation is invariant to node degree.\n",
    "\n",
    "In the following I will refer to rule 1 as the sum rule and rule 2 as the mean rule."
   ]
  },
  {
   "cell_type": "code",
   "execution_count": null,
   "metadata": {},
   "outputs": [],
   "source": []
  }
 ],
 "metadata": {
  "kernelspec": {
   "display_name": "Python 3",
   "language": "python",
   "name": "python3"
  },
  "language_info": {
   "codemirror_mode": {
    "name": "ipython",
    "version": 3
   },
   "file_extension": ".py",
   "mimetype": "text/x-python",
   "name": "python",
   "nbconvert_exporter": "python",
   "pygments_lexer": "ipython3",
   "version": "3.7.4"
  },
  "varInspector": {
   "cols": {
    "lenName": 16,
    "lenType": 16,
    "lenVar": 40
   },
   "kernels_config": {
    "python": {
     "delete_cmd_postfix": "",
     "delete_cmd_prefix": "del ",
     "library": "var_list.py",
     "varRefreshCmd": "print(var_dic_list())"
    },
    "r": {
     "delete_cmd_postfix": ") ",
     "delete_cmd_prefix": "rm(",
     "library": "var_list.r",
     "varRefreshCmd": "cat(var_dic_list()) "
    }
   },
   "types_to_exclude": [
    "module",
    "function",
    "builtin_function_or_method",
    "instance",
    "_Feature"
   ],
   "window_display": false
  }
 },
 "nbformat": 4,
 "nbformat_minor": 4
}
